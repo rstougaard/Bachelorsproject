{
 "cells": [
  {
   "cell_type": "markdown",
   "id": "a298a374",
   "metadata": {},
   "source": [
    "# Import packages"
   ]
  },
  {
   "cell_type": "code",
   "execution_count": 1,
   "id": "bb7658e5",
   "metadata": {},
   "outputs": [],
   "source": [
    "import numpy as np\n",
    "import pandas as pd\n",
    "import matplotlib\n",
    "import matplotlib.pyplot as plt\n",
    "import scipy.integrate as integrate\n",
    "from scipy import special\n",
    "from scipy.optimize import curve_fit\n",
    "from tqdm import tqdm\n",
    "import scipy as sy\n",
    "from scipy.interpolate import interp1d\n",
    "from scipy.optimize import minimize\n",
    "from scipy.optimize import bisect\n",
    "import healpy as H\n",
    "import pickle\n",
    "\n"
   ]
  },
  {
   "cell_type": "markdown",
   "id": "dd1253d4",
   "metadata": {},
   "source": [
    "# Import MC data and PPPC4 flux"
   ]
  },
  {
   "cell_type": "code",
   "execution_count": 2,
   "id": "69f09b6d",
   "metadata": {},
   "outputs": [],
   "source": [
    "input_file = \"neutrino_mc.csv\"\n",
    "input_data = pd.read_csv(input_file)\n",
    "\n",
    "# Define masks to identify different neutrino flavors\n",
    "nue_mask = (np.abs(input_data[\"pdg\"]) == 12)\n",
    "numu_mask = (np.abs(input_data[\"pdg\"]) == 14)\n",
    "nutau_mask = (np.abs(input_data[\"pdg\"]) == 16)\n",
    "\n",
    "# Load data (deserialize)\n",
    "with open('ann_flux.pickle', 'rb') as handle:\n",
    "    ann_data = pickle.load(handle)\n",
    "\n",
    "DM_masses = np.array([10, 30, 100, 300, 1000])\n",
    "channels = np.array(['b_', 'W_','numu_','tau_'])"
   ]
  },
  {
   "cell_type": "markdown",
   "id": "d35f8e13",
   "metadata": {},
   "source": [
    "## Setting up global variables"
   ]
  },
  {
   "cell_type": "code",
   "execution_count": 56,
   "id": "b1b84329",
   "metadata": {},
   "outputs": [],
   "source": [
    "# Size of maps:\n",
    "nside= 16\n",
    "npix = H.nside2npix(nside)\n",
    "\n",
    "# For ud_grading maps:\n",
    "nside_course = 8\n",
    "ud_grade_factor = 2**(nside/nside_course)\n",
    "\n",
    "energy_bins_course = np.logspace(0., 3., num=16)\n",
    "binwidth = 0.2\n",
    "bin_index = np.arange(16)\n",
    "\n",
    "# Number of samples:\n",
    "nsamples = 1000 #1000 atmospheric\n",
    "nsamples2 = 1000 #1000 galactic\n",
    "samples_ts = 10000 #10000\n",
    "samples_ts_sig = 1000 #1000\n",
    "#eta_sim_sig = np.linspace(1e-2,40,11)\n",
    "eta_sim_sig = 10**(np.linspace(-6, 1, 21))\n",
    "\n",
    "# Live time:\n",
    "T_live = 10*365*24*60**2 "
   ]
  },
  {
   "cell_type": "markdown",
   "id": "dcf6bd11",
   "metadata": {},
   "source": [
    "## Definition of TS"
   ]
  },
  {
   "cell_type": "code",
   "execution_count": 4,
   "id": "a164b036",
   "metadata": {},
   "outputs": [],
   "source": [
    "def TS(eta, N_ij, mu_s_ij, mu_b_ij):\n",
    "        \n",
    "    nonzero_bg = np.where(mu_b_ij != 0)\n",
    "    fraction = np.zeros_like(mu_b_ij)\n",
    "    fraction[nonzero_bg] = mu_s_ij[nonzero_bg] / mu_b_ij[nonzero_bg]\n",
    "     \n",
    "    ts = np.sum(-2*N_ij[None,:,:]*np.log(1 + eta[:, None, None]*fraction) + 2*eta[:, None, None]*mu_s_ij[None,:,:],\n",
    "               axis=(1, 2)) \n",
    "    return ts"
   ]
  },
  {
   "cell_type": "markdown",
   "id": "6c40c094",
   "metadata": {},
   "source": [
    "# Calculate atmospheric flux "
   ]
  },
  {
   "cell_type": "code",
   "execution_count": 5,
   "id": "bbad22fd",
   "metadata": {},
   "outputs": [],
   "source": [
    "def mu_tau_osc_prob(true_energy, true_zenith) :\n",
    "    \n",
    "    # Get baseline [km] (propagation distance) from zenith angle\n",
    "    # Unit is km\n",
    "    true_coszen = np.cos(true_zenith)\n",
    "    earth_radius = 6371.\n",
    "    production_height = 15. # Assuming neutrino produced 15 km above surface\n",
    "    detector_depth = 1. # Assuming detector depth of 1 km\n",
    "    baseline = -earth_radius*true_coszen +  np.sqrt( (earth_radius*true_coszen)**2 - earth_radius**2 + (earth_radius+production_height+detector_depth)**2 )\n",
    "\n",
    "    # Compute oscillation transition probability\n",
    "    theta = np.deg2rad(45.) # Maximal mixing\n",
    "    deltam2 = 2.5e-3\n",
    "    Pmutau = ( np.sin(2.*theta)**2 ) * np.sin( ( 1.27 * deltam2 * baseline ) / true_energy )**2.\n",
    "    \n",
    "    return Pmutau"
   ]
  },
  {
   "cell_type": "code",
   "execution_count": 6,
   "id": "59c5cba1",
   "metadata": {},
   "outputs": [],
   "source": [
    "import nuflux\n",
    "\n",
    "nuflux_dict = {12: nuflux.NuE, -12: nuflux.NuEBar, 14: nuflux.NuMu, -14: nuflux.NuMuBar,\n",
    "              16: nuflux.NuMu, -16: nuflux.NuMuBar}\n",
    "flux = nuflux.makeFlux('IPhonda2014_spl_solmin')\n",
    "\n",
    "intp_flux = np.zeros(len(np.array(input_data['pdg'])))\n",
    "for nu_pdg in [12, -12, 14, -14, 16, -16]:\n",
    "    nu_idx = np.where(input_data['pdg'] == nu_pdg)[0]\n",
    "    intp_flux[nu_idx] += flux.getFlux(nuflux_dict[nu_pdg], np.array(input_data['true_energy'])[nu_idx], np.cos(input_data['true_zenith'][nu_idx]))*1e4 #conversion from cm^-2 to m^-2\n",
    "#units of flux is GeV^-1 m^-2 s^-1 sr^-1"
   ]
  },
  {
   "cell_type": "code",
   "execution_count": 7,
   "id": "b9a87ee1",
   "metadata": {},
   "outputs": [],
   "source": [
    "def honda_flux_cut(nside, lowlimit, highlimit, add_phase=True, Type='12'):\n",
    "\n",
    "    \n",
    "    if add_phase == True:\n",
    "        added_fase = np.random.uniform(0, 1, len(intp_flux))*2*np.pi\n",
    "    else:\n",
    "        added_fase = np.zeros_like(intp_flux)\n",
    "        \n",
    "    azimuth_reco = np.array(input_data['reco_azimuth'])+added_fase\n",
    "    \n",
    "    ## OSCILLATION \n",
    "    Pmutau = mu_tau_osc_prob(input_data[\"true_energy\"], input_data[\"true_zenith\"])\n",
    "\n",
    "    # Now compute weights representing event rates\n",
    "    # This is flux * osc * weight\n",
    "    rate_weight = np.zeros_like(input_data[\"weight\"]) #weights from the csv file have the units m^2 \n",
    "    rate_weight[nue_mask] = intp_flux[nue_mask] * input_data[\"weight\"][nue_mask] # No oscillations in 2 flavor model\n",
    "    rate_weight[numu_mask] = intp_flux[numu_mask] * (1. - Pmutau[numu_mask]) * input_data[\"weight\"][numu_mask] # numu flux, less those that oscillation\n",
    "    rate_weight[nutau_mask] = intp_flux[nutau_mask] * Pmutau[nutau_mask] * input_data[\"weight\"][nutau_mask] # nutau purely come from oscillations in the numu flux\n",
    "    \n",
    "        \n",
    "    if Type == '12':\n",
    "        indicies = nue_mask\n",
    "        type_energies = np.array(input_data['reco_energy'])[indicies]\n",
    "        energy_indicies = np.where(((type_energies) >= lowlimit) & ((type_energies) < highlimit))[0]\n",
    "        cut_rate_weight = rate_weight[indicies][energy_indicies]\n",
    "    if Type == '14':\n",
    "        indicies = numu_mask\n",
    "        type_energies = np.array(input_data['reco_energy'])[indicies]\n",
    "        energy_indicies = np.where(((type_energies) >= lowlimit) & ((type_energies) < highlimit))[0]\n",
    "        cut_rate_weight = rate_weight[indicies][energy_indicies]\n",
    "    if Type == '16':\n",
    "        indicies = nutau_mask\n",
    "        type_energies = np.array(input_data['reco_energy'])[indicies]\n",
    "        energy_indicies = np.where(((type_energies) >= lowlimit) & ((type_energies) < highlimit))[0]\n",
    "        cut_rate_weight = rate_weight[indicies][energy_indicies]\n",
    "\n",
    "    EQ_theta = np.pi - np.array(np.array(input_data['reco_zenith'])[indicies])[energy_indicies]\n",
    "    EQ_phi = np.array(azimuth_reco[indicies])[energy_indicies]\n",
    "    \n",
    "    EQ_pixels = H.ang2pix(nside,EQ_theta,EQ_phi)\n",
    "   \n",
    "    npix = H.nside2npix(nside)\n",
    "    background_map = np.zeros(npix)\n",
    "    \n",
    "    #weight = np.array(input_data['weight'][indicies])\n",
    "    #intp_flux[indicies][these_pixels]*weight[these_pixels]*\n",
    "    \n",
    "    unique_EQ_pixels = np.unique(EQ_pixels)\n",
    "    for i in range(len(unique_EQ_pixels)):\n",
    "        these_pixels = np.where(EQ_pixels == unique_EQ_pixels[i])[0]\n",
    "        background_map[unique_EQ_pixels[i]] += np.sum(cut_rate_weight[these_pixels])\n",
    "    \n",
    "    return background_map #background units Gev^-1 sr^-1 m^2 s^-1 "
   ]
  },
  {
   "cell_type": "markdown",
   "id": "19fad284",
   "metadata": {},
   "source": [
    "__100 samples, livetime of 10 yrs, 15 energy bins__"
   ]
  },
  {
   "cell_type": "code",
   "execution_count": 8,
   "id": "0a4a5e7b",
   "metadata": {},
   "outputs": [
    {
     "name": "stderr",
     "output_type": "stream",
     "text": [
      "100%|██████████| 16/16 [00:42<00:00,  2.65s/it]\n"
     ]
    }
   ],
   "source": [
    "unitless_bg_nue = np.zeros((len(bin_index),H.nside2npix(nside)))\n",
    "unitless_bg_numu = np.zeros((len(bin_index),H.nside2npix(nside)))\n",
    "unitless_bg_nutau = np.zeros((len(bin_index),H.nside2npix(nside)))\n",
    "\n",
    "for j in tqdm(range(len(bin_index))):\n",
    "    left = 10**(bin_index[j]*binwidth)\n",
    "    right = 10**((bin_index[j]+1)*binwidth)\n",
    "    \n",
    "    data_samples_bg_nue = np.zeros(H.nside2npix(nside))\n",
    "    data_samples_bg_numu = np.zeros(H.nside2npix(nside))\n",
    "    data_samples_bg_nutau = np.zeros(H.nside2npix(nside))\n",
    "    \n",
    "    for i in range(nsamples):\n",
    "        background_template_nue = honda_flux_cut(nside, left, right, add_phase=True, Type='12')\n",
    "        data_samples_bg_nue += background_template_nue\n",
    "\n",
    "        background_template_numu = honda_flux_cut(nside, left, right, add_phase=True, Type='14')\n",
    "        data_samples_bg_numu += background_template_numu\n",
    "\n",
    "        background_template_nutau = honda_flux_cut(nside, left, right, add_phase=True, Type='16')\n",
    "        data_samples_bg_nutau += background_template_nutau\n",
    "\n",
    "    data_samples_bg_nue = data_samples_bg_nue/nsamples * T_live\n",
    "    data_samples_bg_numu = data_samples_bg_numu/nsamples* T_live\n",
    "    data_samples_bg_nutau = data_samples_bg_nutau/nsamples * T_live\n",
    "    \n",
    "    unitless_bg_nue[j] += data_samples_bg_nue\n",
    "    unitless_bg_numu[j] += data_samples_bg_numu\n",
    "    unitless_bg_nutau[j] += data_samples_bg_nutau"
   ]
  },
  {
   "cell_type": "code",
   "execution_count": 9,
   "id": "264ba441",
   "metadata": {},
   "outputs": [],
   "source": [
    "all_atmospheric_neutrinos = unitless_bg_nue + unitless_bg_numu + unitless_bg_nutau\n",
    "np.save('all_atmospheric_neutrinos.npy',all_atmospheric_neutrinos)\n",
    "expect_bg = H.ud_grade(all_atmospheric_neutrinos,nside_course)*ud_grade_factor"
   ]
  },
  {
   "cell_type": "code",
   "execution_count": 10,
   "id": "220e1f6d",
   "metadata": {},
   "outputs": [
    {
     "data": {
      "image/png": "[encoded data removed]",
      "text/plain": [
       "<Figure size 612x388.8 with 2 Axes>"
      ]
     },
     "metadata": {
      "needs_background": "light"
     },
     "output_type": "display_data"
    }
   ],
   "source": [
    "H.mollview(H.ud_grade(all_atmospheric_neutrinos[0],nside_course)*ud_grade_factor)"
   ]
  },
  {
   "cell_type": "markdown",
   "id": "25d85fb4",
   "metadata": {},
   "source": [
    "# Calculate J and D factor"
   ]
  },
  {
   "cell_type": "code",
   "execution_count": 11,
   "id": "629652a7",
   "metadata": {},
   "outputs": [],
   "source": [
    "def rho_NFW(r):\n",
    "    rho0 = 0.4 #GeV pr cubic cm\n",
    "    gamma = 1 #dimensionless\n",
    "    r_s = 17#kpc\n",
    "    return rho0 /((r/r_s)**gamma * (1 + (r/r_s))**(3-gamma))\n",
    "\n",
    "boundaries = np.logspace(-4, 3, 1000) #from 0 til 1000 kpc\n",
    "\n",
    "R_gc = 7.5 #location of the galactic center from earth \n",
    "\n",
    "def JDfactor(theta, phi, line, lonlat=True): #dimensionless\n",
    "    \n",
    "    if lonlat == False:\n",
    "        r = np.sqrt(line**2 + R_gc**2 - 2*line*R_gc*np.sin(theta)*np.cos(phi)) #theta[0,pi] and phi[0,2pi] for False\n",
    "    else:\n",
    "        r = np.sqrt(line**2 + R_gc**2 - 2*line*R_gc*np.cos(theta)*np.cos(phi)) #galactic coordinates is True\n",
    "        \n",
    "    density_NFW = rho_NFW(r) #density from density profile\n",
    "\n",
    "    J_NFW = integrate.trapz(density_NFW**2, line)\n",
    "    D_NFW = integrate.trapz(density_NFW, line) \n",
    "    \n",
    "    norm_J_NFW = J_NFW * (3.086*1e19*1e12/(8*np.pi)) #m^-5 GeV^2 \n",
    "    norm_D_NFW = D_NFW  *(3.086*1e19*1e6)/(4*np.pi) #m^-2 GeV \n",
    "    \n",
    "    return norm_J_NFW, norm_D_NFW"
   ]
  },
  {
   "cell_type": "code",
   "execution_count": 12,
   "id": "6d25d341",
   "metadata": {},
   "outputs": [
    {
     "name": "stderr",
     "output_type": "stream",
     "text": [
      "100%|██████████| 3072/3072 [00:00<00:00, 3575.56it/s]\n"
     ]
    }
   ],
   "source": [
    "\n",
    "\n",
    "J_map = np.zeros(npix)\n",
    "D_map = np.zeros(npix)\n",
    "size = H.get_map_size(J_map)\n",
    "\n",
    "saved_theta = np.zeros(npix)\n",
    "saved_phi = np.zeros(npix)\n",
    "saved_J = np.zeros(npix)\n",
    "saved_D = np.zeros(npix)\n",
    "\n",
    "for i in tqdm(range(size)):\n",
    "    theta0, phi0 = H.pix2ang(nside, i, lonlat=False) ##co-latitude and longitude in radians\n",
    "    saved_theta[i] += theta0\n",
    "    saved_phi[i] += phi0\n",
    " \n",
    "    Dtheta = JDfactor(theta0, phi0, boundaries, lonlat=False)[1]\n",
    "    Jtheta = JDfactor(theta0, phi0, boundaries, lonlat=False)[0] #calculating the Jfactor in galactic coordinates\n",
    "    saved_J[i] += Jtheta\n",
    "    saved_D[i] += Dtheta\n",
    "    \n",
    "pixel_indicies = H.ang2pix(nside, np.array(saved_theta) ,np.array(saved_phi), lonlat=False) #takes long/lat in degrees\n",
    "J_map[pixel_indicies] = saved_J\n",
    "D_map[pixel_indicies] = saved_D\n",
    "norm_J_map = J_map/np.sum(J_map)\n",
    "norm_D_map = D_map/np.sum(D_map)"
   ]
  },
  {
   "cell_type": "code",
   "execution_count": 13,
   "id": "d22771d7",
   "metadata": {},
   "outputs": [],
   "source": [
    "J_NFW_template = J_map\n",
    "D_NFW_template = D_map"
   ]
  },
  {
   "cell_type": "markdown",
   "id": "21e40509",
   "metadata": {},
   "source": [
    "# Calculation of the galactic flux"
   ]
  },
  {
   "cell_type": "code",
   "execution_count": 14,
   "id": "c5b06aba",
   "metadata": {},
   "outputs": [],
   "source": [
    "def cut_template(nside, indicies, energy_indicies, added_fase, Type='12'):\n",
    "     \n",
    "    if Type=='12':\n",
    "        indicies = nue_mask\n",
    "    if Type=='14':\n",
    "        indicies = numu_mask\n",
    "    if Type=='16':\n",
    "        indicies = nutau_mask\n",
    "          \n",
    "    \n",
    "    r = H.Rotator(coord=['C','G'])\n",
    "    EQ_theta = np.pi - np.array(np.array(input_data['true_zenith'][indicies])[energy_indicies])\n",
    "    EQ_phi = np.array(np.array(input_data['true_azimuth'][indicies])[energy_indicies]) + added_fase\n",
    "    \n",
    "    EQ_pixels = H.ang2pix(nside,EQ_theta,EQ_phi)\n",
    "\n",
    "    gal_theta, gal_phi = r(EQ_theta,EQ_phi)\n",
    "    GAL_pixels = H.ang2pix(nside,gal_theta, gal_phi)\n",
    "    \n",
    "    return GAL_pixels"
   ]
  },
  {
   "cell_type": "code",
   "execution_count": 15,
   "id": "00deaf92",
   "metadata": {},
   "outputs": [],
   "source": [
    "def cut_Galactic_flavors(nside, E, channel, true_azimuth, true_zenith, lowlimit, highlimit, DM_mass=1000, J=True, Type='12', add_phase=True): #Type is 12, 14, 16\n",
    "    \n",
    "    #Average neutrino flavor oscillation\n",
    "    AvPMNS = np.array([[0.552238, 0.170924, 0.276838],[0.170924, 0.453893, 0.375182],[0.276838, 0.375182, 0.34798]]) #calculated in Mathematica\n",
    "    \n",
    "    ave_nue_flux, ave_numu_flux, ave_nutau_flux = AvPMNS @ np.array([channel[0], channel[1], channel[2]]) #dN/dE [GeV^-1]\n",
    "    \n",
    "    #Interpolating data\n",
    "    nue_GC_flux = interp1d(E,ave_nue_flux,bounds_error=False,fill_value=0)\n",
    "    numu_GC_flux = interp1d(E,ave_numu_flux,bounds_error=False,fill_value=0)\n",
    "    nutau_GC_flux = interp1d(E,ave_nutau_flux,bounds_error=False,fill_value=0)\n",
    "    \n",
    "    #Calculating flux from interpolation\n",
    "    if Type == '12':\n",
    "        indicies = nue_mask\n",
    "        type_energies = input_data['reco_energy'][indicies]\n",
    "        energy_indicies = np.where(((type_energies) >= lowlimit) & ((type_energies) < highlimit))[0]\n",
    "        intp_flux = nue_GC_flux(np.array(input_data['true_energy'][indicies])[energy_indicies])\n",
    "        if add_phase == True:\n",
    "            added_fase = np.random.uniform(0, 1, len(intp_flux))*2*np.pi\n",
    "        else:\n",
    "            added_fase = np.zeros_like(intp_flux)\n",
    "        GAL_pixels = cut_template(nside, indicies, energy_indicies, added_fase, Type='12')\n",
    "        \n",
    "    elif Type == '14':\n",
    "        indicies = numu_mask\n",
    "        type_energies = input_data['reco_energy'][indicies]\n",
    "        energy_indicies = np.where(((type_energies) >= lowlimit) & ((type_energies) < highlimit))[0]\n",
    "        intp_flux = numu_GC_flux(np.array(input_data['true_energy'][indicies])[energy_indicies])\n",
    "        if add_phase == True:\n",
    "            added_fase = np.random.uniform(0, 1, len(intp_flux))*2*np.pi\n",
    "        else:\n",
    "            added_fase = np.zeros_like(intp_flux)\n",
    "        GAL_pixels = cut_template(nside, indicies, energy_indicies, added_fase, Type='14')\n",
    "        \n",
    "    elif Type == '16':\n",
    "        indicies = nutau_mask\n",
    "        type_energies = input_data['reco_energy'][indicies]\n",
    "        energy_indicies = np.where(((type_energies) >= lowlimit) & ((type_energies) < highlimit))[0]\n",
    "        intp_flux = nutau_GC_flux(np.array(input_data['true_energy'][indicies])[energy_indicies])\n",
    "        if add_phase == True:\n",
    "            added_fase = np.random.uniform(0, 1, len(intp_flux))*2*np.pi\n",
    "        else:\n",
    "            added_fase = np.zeros_like(intp_flux)\n",
    "        GAL_pixels = cut_template(nside, indicies, energy_indicies, added_fase, Type='16')\n",
    "    \n",
    "    if J==True:\n",
    "        benchmark = 1e-30\n",
    "        DM_map = J_NFW_template *benchmark /(DM_mass**2)\n",
    "    else:\n",
    "        gamma = 1e-24\n",
    "        DM_map = D_NFW_template * gamma/DM_mass           \n",
    "\n",
    "    weight = np.array(np.array(input_data['weight'][indicies])[energy_indicies])\n",
    "      \n",
    "    r = H.Rotator(coord=['C','G'])\n",
    "    EQ_theta = np.pi - np.array(np.array(true_zenith[indicies])[energy_indicies])\n",
    "    \n",
    "    EQ_phi = np.array(np.array(true_azimuth[indicies])[energy_indicies]) + added_fase\n",
    "    \n",
    "    EQ_pixels = H.ang2pix(nside,EQ_theta,EQ_phi)\n",
    "        \n",
    "    \n",
    "    npix = H.nside2npix(nside)\n",
    "    signalmap = np.zeros(npix)\n",
    "    \n",
    "    rate_weight = np.array(input_data['weight'][indicies])[energy_indicies] * intp_flux \n",
    "    ''' \n",
    "    for i in range(len(EQ_pixels)):\n",
    "        signalmap[EQ_pixels[i]] += norm_DM_map[GAL_pixels[i]]*intp_flux[i]*weight[i] \n",
    "    '''  \n",
    "    unique_EQ_pixels = np.unique(EQ_pixels)\n",
    "    #unique_GAL_pixels = np.unique(GAL_pixels)\n",
    "    for i in range(len(unique_EQ_pixels)):\n",
    "        these_EQ_pixels = np.where(EQ_pixels == unique_EQ_pixels[i])[0]\n",
    "        these_GAL_pixels = GAL_pixels[these_EQ_pixels]\n",
    "        signalmap[unique_EQ_pixels[i]] += np.sum(rate_weight[these_EQ_pixels]* DM_map[these_GAL_pixels])\n",
    "                  \n",
    "    return signalmap\n",
    "\n",
    "        "
   ]
  },
  {
   "cell_type": "markdown",
   "id": "1747d9c8",
   "metadata": {},
   "source": [
    "# Make all signal maps"
   ]
  },
  {
   "cell_type": "code",
   "execution_count": 16,
   "id": "166a4655",
   "metadata": {},
   "outputs": [],
   "source": [
    "def all_sig_maps(E, channel_flux, mass):\n",
    "    all_galactic_neutrinos = []\n",
    "    unitless_sig_nue = np.zeros((len(bin_index),H.nside2npix(nside)))\n",
    "    unitless_sig_numu = np.zeros((len(bin_index),H.nside2npix(nside)))\n",
    "    unitless_sig_nutau = np.zeros((len(bin_index),H.nside2npix(nside)))\n",
    "\n",
    "    for j in range(len(bin_index)):\n",
    "\n",
    "        try:\n",
    "            left = 10**(bin_index[j]*binwidth)\n",
    "            right = 10**((bin_index[j]+1)*binwidth)\n",
    "\n",
    "            data_samples_sig_nue = np.zeros(H.nside2npix(nside))\n",
    "            data_samples_sig_numu = np.zeros(H.nside2npix(nside))\n",
    "            data_samples_sig_nutau = np.zeros(H.nside2npix(nside))\n",
    "\n",
    "            for i in range(nsamples2):\n",
    "                signal_template_nue = cut_Galactic_flavors(nside,E, channel_flux , input_data['true_azimuth'],input_data['true_zenith'],left, right, DM_mass=mass,  J=False, Type='12', add_phase=True)\n",
    "                data_samples_sig_nue += signal_template_nue\n",
    "\n",
    "                signal_template_numu = cut_Galactic_flavors(nside, E, channel_flux , input_data['true_azimuth'],input_data['true_zenith'],left, right, DM_mass=mass,  J=False, Type='14', add_phase=True)\n",
    "                data_samples_sig_numu += signal_template_numu\n",
    "\n",
    "                signal_template_nutau = cut_Galactic_flavors(nside, E, channel_flux , input_data['true_azimuth'],input_data['true_zenith'],left, right, DM_mass=mass , J=False, Type='16', add_phase=True)\n",
    "                data_samples_sig_nutau += signal_template_nutau\n",
    "\n",
    "            data_samples_sig_nue = data_samples_sig_nue/nsamples2 * T_live \n",
    "            data_samples_sig_numu = data_samples_sig_numu/nsamples2 * T_live\n",
    "            data_samples_sig_nutau = data_samples_sig_nutau/nsamples2 * T_live \n",
    "\n",
    "            unitless_sig_nue[j] += data_samples_sig_nue\n",
    "            unitless_sig_numu[j] += data_samples_sig_numu\n",
    "            unitless_sig_nutau[j] += data_samples_sig_nutau\n",
    "\n",
    "        except IndexError:\n",
    "            print('Continue!')\n",
    "            continue\n",
    "\n",
    "    all_galactic_neutrinos.append(unitless_sig_nue+ unitless_sig_numu + unitless_sig_nutau)\n",
    "        \n",
    "    return all_galactic_neutrinos\n"
   ]
  },
  {
   "cell_type": "code",
   "execution_count": 17,
   "id": "7390200c",
   "metadata": {},
   "outputs": [
    {
     "name": "stdout",
     "output_type": "stream",
     "text": [
      "Continue!\n",
      "1\n",
      "Continue!\n",
      "2\n",
      "Continue!\n",
      "3\n",
      "Continue!\n",
      "4\n",
      "Continue!\n",
      "5\n",
      "Continue!\n",
      "2\n",
      "Continue!\n",
      "4\n",
      "Continue!\n",
      "6\n",
      "Continue!\n",
      "8\n",
      "Continue!\n",
      "10\n",
      "Continue!\n",
      "3\n",
      "Continue!\n",
      "6\n",
      "Continue!\n",
      "9\n",
      "Continue!\n",
      "12\n",
      "Continue!\n",
      "15\n",
      "Continue!\n",
      "4\n",
      "Continue!\n",
      "8\n",
      "Continue!\n",
      "12\n",
      "Continue!\n",
      "16\n",
      "Continue!\n",
      "20\n"
     ]
    }
   ],
   "source": [
    "all_galactic_neutrinos_per_channel = []\n",
    "for c in range(len(channels)):\n",
    "    all_galactic_neutrinos_per_mass = []\n",
    "    for m in range(len(DM_masses)):\n",
    "        all_galactic_neutrinos_per_mass.append(all_sig_maps(ann_data['E_'+channels[c]+str(DM_masses[m])], ann_data['E_nu_'+channels[c]+str(DM_masses[m])], DM_masses[m]))\n",
    "        print((c+1)*(m+1))\n",
    "    all_galactic_neutrinos_per_channel.append(all_galactic_neutrinos_per_mass)\n",
    "   "
   ]
  },
  {
   "cell_type": "markdown",
   "id": "adf17649",
   "metadata": {},
   "source": [
    "## Defining the total signal (Background + signal)"
   ]
  },
  {
   "cell_type": "code",
   "execution_count": 18,
   "id": "d58d29c1",
   "metadata": {},
   "outputs": [],
   "source": [
    "all_galactic_neutrinos_per_channel = np.array(all_galactic_neutrinos_per_channel)\n",
    "np.save('all_galactic_neutrinos_per_channel.npy',all_galactic_neutrinos_per_channel)\n",
    "total_signal = all_galactic_neutrinos_per_channel+all_atmospheric_neutrinos"
   ]
  },
  {
   "cell_type": "code",
   "execution_count": 49,
   "id": "c6bb741d",
   "metadata": {},
   "outputs": [
    {
     "data": {
      "image/png": "[encoded data removed]",
      "text/plain": [
       "<Figure size 612x388.8 with 2 Axes>"
      ]
     },
     "metadata": {
      "needs_background": "light"
     },
     "output_type": "display_data"
    }
   ],
   "source": [
    "H.mollview(all_galactic_neutrinos_per_channel[2][3][0][10])"
   ]
  },
  {
   "cell_type": "markdown",
   "id": "143424db",
   "metadata": {},
   "source": [
    "# Defining TS functions for background and signal"
   ]
  },
  {
   "cell_type": "code",
   "execution_count": 20,
   "id": "e3451294",
   "metadata": {},
   "outputs": [],
   "source": [
    "def TS_bg(expectation_values_sig):\n",
    "    min_values_bg = np.zeros(samples_ts)\n",
    "    TS_min_bg = np.zeros(samples_ts)\n",
    "    eta_sim_bg = 0.0\n",
    "    for i in tqdm(range(samples_ts)):\n",
    "        events_bg = np.random.poisson(lam=expect_bg)\n",
    "        events_sig = np.random.poisson(lam=expectation_values_sig*eta_sim_bg)\n",
    "        events_bg_sig = events_bg + events_sig\n",
    "        \n",
    "        ts_minimize = lambda leta, N_ij=events_bg_sig, mu_s_ij=expectation_values_sig, mu_b_ij=expect_bg: TS(np.exp(leta), N_ij, mu_s_ij, mu_b_ij)\n",
    "        res = minimize(ts_minimize, x0=[0.0])\n",
    "        #res = minimize(ts_minimize, x0=[0.0], bounds=((1e-5, 1e2), ))\n",
    "        min_values_bg[i] = res.x\n",
    "        #print(res.x)\n",
    "        TS_min_bg[i] = max(0.0, -ts_minimize(res.x))\n",
    "        \n",
    "    return TS_min_bg"
   ]
  },
  {
   "cell_type": "code",
   "execution_count": 21,
   "id": "cc414ec4",
   "metadata": {},
   "outputs": [],
   "source": [
    "def TS_sig(expectation_values_sig):\n",
    "    min_values_sig = np.zeros(samples_ts_sig)\n",
    "    TS_min_sig = np.zeros((len(eta_sim_sig),samples_ts_sig))\n",
    "    for j in tqdm(range(len(eta_sim_sig))):    \n",
    "        for i in range(samples_ts_sig):\n",
    "            events_bg = np.random.poisson(lam=expect_bg)\n",
    "            events_sig = np.random.poisson(lam=expectation_values_sig*eta_sim_sig[j])\n",
    "            events_bg_sig = events_bg + events_sig\n",
    "            #plt.plot(eta_sim_sig, TS(eta_sim_sig, events_bg_sig, expect_sig, expect_bg))\n",
    "            #plt.xlabel('$\\eta$')\n",
    "            #plt.ylabel('TS')\n",
    "            #plt.xscale('log')\n",
    "            \n",
    "            ts_minimize = lambda leta, N_ij=events_bg_sig, mu_s_ij=expectation_values_sig, mu_b_ij=expect_bg: TS(np.exp(leta), N_ij, mu_s_ij, mu_b_ij)\n",
    "            res = minimize(ts_minimize, x0=[0.0])\n",
    "            #res = minimize(ts_minimize, x0=[0.0], bounds=((1e-5, 1e2), ))\n",
    "            min_values_sig[i] = res.x\n",
    "            #print(res.x)\n",
    "            TS_min_sig[j][i] = max(0.0, -ts_minimize(res.x))\n",
    "\n",
    "    return TS_min_sig"
   ]
  },
  {
   "cell_type": "markdown",
   "id": "f5028436",
   "metadata": {},
   "source": [
    "# Test with one channel and one DM mass"
   ]
  },
  {
   "cell_type": "code",
   "execution_count": 59,
   "id": "3bacd254",
   "metadata": {},
   "outputs": [
    {
     "name": "stderr",
     "output_type": "stream",
     "text": [
      "100%|██████████| 11/11 [01:06<00:00,  6.09s/it]\n",
      "100%|██████████| 100/100 [00:07<00:00, 14.22it/s]\n"
     ]
    },
    {
     "data": {
      "image/png": "[encoded data removed]",
      "text/plain": [
       "<Figure size 432x288 with 1 Axes>"
      ]
     },
     "metadata": {
      "needs_background": "light"
     },
     "output_type": "display_data"
    }
   ],
   "source": [
    "\n",
    "expect_sig = H.ud_grade(np.array(all_galactic_neutrinos_per_channel)[2][3][0], nside_course)*ud_grade_factor\n",
    "\n",
    "TS_min_sig = TS_sig(expect_sig)\n",
    "TS_min_bg = TS_bg(expect_sig)\n",
    "\n",
    "TS_min_bg = np.array(TS_min_bg) \n",
    "TS_min_sig = np.array(TS_min_sig)        \n",
    "\n",
    "TS_0 = TS_min_bg.mean()\n",
    "f = np.zeros(len(eta_sim_sig))\n",
    "for i in range(len(eta_sim_sig)):\n",
    "    f[i] = len(TS_min_sig[i][np.where(TS_min_sig[i]>=TS_0)]) /len(TS_min_sig[i])\n",
    "\n"
   ]
  },
  {
   "cell_type": "code",
   "execution_count": 60,
   "id": "2fd226cc",
   "metadata": {},
   "outputs": [
    {
     "name": "stderr",
     "output_type": "stream",
     "text": [
      "<ipython-input-60-90c2bee9d643>:5: UserWarning: Data has no positive values, and therefore cannot be log-scaled.\n",
      "  ax.axvline(TS_min_bg.mean(), color='k', linestyle='dashed', linewidth=1)\n"
     ]
    },
    {
     "data": {
      "image/png": "[encoded data removed]",
      "text/plain": [
       "<Figure size 504x360 with 1 Axes>"
      ]
     },
     "metadata": {
      "needs_background": "light"
     },
     "output_type": "display_data"
    }
   ],
   "source": [
    "nbins=np.arange(0,200,10)\n",
    "fig, ax = plt.subplots(figsize = (7,5))\n",
    "ax.hist(TS_min_sig[9], log=True, bins=nbins, label='$\\eta$ = '+str(eta_sim_sig[9]))\n",
    "#ax.hist(TS_min_bg, log=True, bins=nbins, label='bg')\n",
    "ax.axvline(TS_min_bg.mean(), color='k', linestyle='dashed', linewidth=1)\n",
    "ax.set_xlabel(r\"$\\rm{TS}_{\\rm{min}}$\")\n",
    "ax.set_ylabel(\"N\")\n",
    "plt.legend();"
   ]
  },
  {
   "cell_type": "code",
   "execution_count": 61,
   "id": "9347c51a",
   "metadata": {},
   "outputs": [
    {
     "data": {
      "image/png": "[encoded data removed]",
      "text/plain": [
       "<Figure size 432x288 with 1 Axes>"
      ]
     },
     "metadata": {
      "needs_background": "light"
     },
     "output_type": "display_data"
    }
   ],
   "source": [
    "plt.plot(np.log(eta_sim_sig), f)\n",
    "plt.ylabel('fraction', fontsize=15)\n",
    "plt.xlabel('log($\\eta$)', fontsize=15)\n",
    "plt.title('bb DM mass 1000');"
   ]
  },
  {
   "cell_type": "code",
   "execution_count": 46,
   "id": "9b8b5981",
   "metadata": {},
   "outputs": [],
   "source": [
    "def func(eta, eta0, a):\n",
    "    return (1-a)*special.erf(eta/eta0/np.sqrt(2))+a\n",
    "\n",
    "#yerror = np.sqrt(f*(1-f)/samples_ts)\n",
    "yerror = np.sqrt((2+(samples_ts_sig-6)*(1-f)*f)/(samples_ts_sig+2)/(samples_ts_sig+3))\n",
    "bounds=((0.01, [40, 1.]))\n",
    "\n",
    "\n",
    "popt1, pcov1 = curve_fit(func, eta_sim_sig, f, sigma=yerror, absolute_sigma=True)\n",
    "\n",
    "eta_prime = bisect(lambda x: func(x, *popt1) -0.9, eta_sim_sig[0], eta_sim_sig[-1])"
   ]
  },
  {
   "cell_type": "code",
   "execution_count": 47,
   "id": "3ee73973",
   "metadata": {},
   "outputs": [
    {
     "data": {
      "image/png": "[encoded data removed]",
      "text/plain": [
       "<Figure size 504x360 with 1 Axes>"
      ]
     },
     "metadata": {
      "needs_background": "light"
     },
     "output_type": "display_data"
    }
   ],
   "source": [
    "fig, ax = plt.subplots(figsize = (7,5))\n",
    "ax.plot(np.log(eta_sim_sig), f, '.', label='data', color='orange')\n",
    "ax.errorbar(np.log(eta_sim_sig), f, yerr=yerror, fmt = '.', color='orange')\n",
    "ax.plot(np.log(eta_sim_sig), func(eta_sim_sig, *popt1), label= 'Fit', color='black')\n",
    "#ax.plot(eta_sim_sig, special.erf(eta_sim_sig/np.sqrt(2)), '--', label='Erf func')\n",
    "ax.set_xlabel(\"log($\\mathit{\\eta}$)\", fontsize=15)\n",
    "ax.set_ylabel('Fraction', fontsize=15) #(\"$\\%$\")\n",
    "ax.axhline(.9, color='grey', linestyle='dashed', linewidth=1.5)\n",
    "#ax.axvline(popt1[0], color='k', linestyle='dashed', linewidth=1.75, label=r\"$\\mathit{\\eta_0}$\")\n",
    "ax.axvline(np.log(eta_prime), color='k', linestyle='dashed', linewidth=1.75, label=r\"$\\mathit{\\eta'}$\")\n",
    "ax.grid(True)\n",
    "ax.legend(loc='lower right');"
   ]
  },
  {
   "cell_type": "markdown",
   "id": "c7c2fe91",
   "metadata": {},
   "source": [
    "# Upload previous maps"
   ]
  },
  {
   "cell_type": "code",
   "execution_count": null,
   "id": "f825ac02",
   "metadata": {},
   "outputs": [],
   "source": [
    "expect_bg = H.ud_grade(all_atmospheric_neutrinos,nside_course)*ud_grade_factor\n",
    "total_signal = all_galactic_neutrinos_per_channel+all_atmospheric_neutrinos\n"
   ]
  },
  {
   "cell_type": "markdown",
   "id": "7603cdf3",
   "metadata": {},
   "source": [
    "# Loop begins here\n",
    "__1) TS for background.__\n",
    "\n",
    "__2) TS for background + signal.__\n",
    "\n",
    "__3) Fitting and finding $\\eta'$ + saving.__\n",
    "\n",
    "__4) Sensitivity plot.__"
   ]
  },
  {
   "cell_type": "code",
   "execution_count": null,
   "id": "23520ede",
   "metadata": {
    "tags": []
   },
   "outputs": [],
   "source": [
    "saved_bg_histograms = []\n",
    "saved_histograms = []\n",
    "\n",
    "TS_0 = TS_min_bg.mean()\n",
    "\n",
    "def func(eta, eta0, a):\n",
    "    return (1-a)*special.erf(eta/eta0/np.sqrt(2))+a\n",
    "\n",
    "saved_eta_prime = []\n",
    "\n",
    "for c in tqdm(range(len(channels))):\n",
    "    for m in range(len(DM_masses)):\n",
    "        expect_sig = H.ud_grade(np.array(all_galactic_neutrinos_per_channel)[c][m][0], nside_course)*ud_grade_factor\n",
    "        \n",
    "        #Calculating TS for background\n",
    "        TS_min_bg = TS_bg(expect_sig)\n",
    "        saved_bg_histograms.append(TS_min_bg)\n",
    "        TS_min_bg = np.array(TS_min_bg)\n",
    "        \n",
    "        #Calculating TS for signal\n",
    "        TS_min_sig = TS_sig(expect_sig)\n",
    "        saved_histograms.append(TS_min_sig)\n",
    "        TS_min_sig = np.array(TS_min_sig)        \n",
    "        \n",
    "        #How many TS_min_sig is above 90% the mean of TS_min_bg\n",
    "        f = np.zeros(len(eta_sim_sig))\n",
    "        for i in range(len(eta_sim_sig)):\n",
    "            f[i] = len(TS_min_sig[i][np.where(TS_min_sig[i]>=TS_0)]) /len(TS_min_sig[i])\n",
    "        \n",
    "        #Estimation of ydata error\n",
    "        yerror = np.sqrt((2+(samples_ts-6)*(1-f)*f)/(samples_ts+2)/(samples_ts+3))\n",
    "        #Fitting\n",
    "        popt1, pcov1 = curve_fit(func, eta_sim_sig, f, sigma=yerror, absolute_sigma=True, maxfev=5000)\n",
    "        #Finding eta_prime\n",
    "        eta_prime = bisect(lambda x: func(x, *popt1) -0.9, eta_sim_sig[0], eta_sim_sig[-1])\n",
    "        saved_eta_prime.append(eta_prime*1e-24)\n",
    "         "
   ]
  },
  {
   "cell_type": "code",
   "execution_count": null,
   "id": "90acbaee",
   "metadata": {},
   "outputs": [],
   "source": [
    "saved_bg_histograms = np.array(saved_bg_histograms)\n",
    "saved_histograms = np.array(saved_histograms)\n",
    "saved_eta_prime = np.array(saved_eta_prime)"
   ]
  },
  {
   "cell_type": "code",
   "execution_count": null,
   "id": "73dc5841",
   "metadata": {},
   "outputs": [],
   "source": [
    "saved_eta_prime"
   ]
  },
  {
   "cell_type": "markdown",
   "id": "8e3e0103",
   "metadata": {},
   "source": [
    "## Saving histograms and sensitivities"
   ]
  },
  {
   "cell_type": "code",
   "execution_count": null,
   "id": "d4b60421",
   "metadata": {},
   "outputs": [],
   "source": [
    "np.save('saved_bg_histograms_decay.npy',saved_bg_histograms)\n",
    "np.save('saved_eta_prime_decay.npy',saved_eta_prime)\n",
    "np.save('saved_histograms_decay.npy',saved_histograms)"
   ]
  },
  {
   "cell_type": "markdown",
   "id": "24f6dbaa",
   "metadata": {},
   "source": [
    "## Plotting sensitivity"
   ]
  },
  {
   "cell_type": "code",
   "execution_count": null,
   "id": "52d04efd",
   "metadata": {},
   "outputs": [],
   "source": [
    "fig, ax = plt.subplots(figsize = (7,5))\n",
    "ax.plot(DM_masses, saved_eta_prime[:5], label=r'$b\\bar{b}$', color='blue')\n",
    "ax.plot(DM_masses[2:], saved_eta_prime[7:10], label=r'$W^{+}W^{-}$', color='purple')\n",
    "ax.plot(DM_masses, saved_eta_prime[10:15], label=r'$\\nu_{\\mu}\\bar{\\nu}_{\\mu}$', color='darkorange')\n",
    "ax.plot(DM_masses, saved_eta_prime[15:20], label=r'$\\tau^{+}\\tau^{-}$', color='green')\n",
    "ax.set_xscale(\"log\")\n",
    "ax.set_yscale(\"log\")\n",
    "ax.set_ylabel(r\"$\\Gamma, [s^{-1}]$ \", fontsize=15) \n",
    "ax.set_xlabel(r\"$m_{\\chi} \\, [GeV]$\", fontsize=15)\n",
    "ax.legend(loc='upper center', bbox_to_anchor=(0.5, 1.17), ncol=4,  fontsize=14)\n",
    "ax.grid(True)\n",
    "ax.set_ylim(1e-31,3e-29)\n",
    "ax.set_xlim(7.5, 1.5e3)\n",
    "plt.savefig('sensitivity_gamma.png', dpi=300);"
   ]
  },
  {
   "cell_type": "code",
   "execution_count": null,
   "id": "23459735",
   "metadata": {},
   "outputs": [],
   "source": [
    "fig, ax = plt.subplots(figsize = (7,5))\n",
    "ax.plot(DM_masses, saved_eta_prime[:5]*-1, label=r'$b\\bar{b}$', color='blue')\n",
    "ax.plot(DM_masses[2:], saved_eta_prime[7:10]*-1, label=r'$W^{+}W^{-}$', color='purple')\n",
    "ax.plot(DM_masses, saved_eta_prime[10:15]*-1, label=r'$\\nu_{\\mu}\\bar{\\nu}_{\\mu}$', color='darkorange')\n",
    "ax.plot(DM_masses, saved_eta_prime[15:20]*-1, label=r'$\\tau^{+}\\tau^{-}$', color='green')\n",
    "ax.set_xscale(\"log\")\n",
    "ax.set_yscale(\"log\")\n",
    "ax.set_ylabel(r\"$\\tau, [s]$ \", fontsize=15) \n",
    "ax.set_xlabel(r\"$m_{\\chi} \\, [GeV]$\", fontsize=15)\n",
    "ax.legend(loc='upper center', bbox_to_anchor=(0.5, 1.17), ncol=4,  fontsize=14)\n",
    "ax.grid(True)\n",
    "ax.set_ylim(1e-31,3e-29)\n",
    "ax.set_xlim(7.5, 1.5e3)\n",
    "plt.savefig('sensitivity_lifetime.png', dpi=300);"
   ]
  },
  {
   "cell_type": "code",
   "execution_count": null,
   "id": "d00ce841",
   "metadata": {},
   "outputs": [],
   "source": []
  }
 ],
 "metadata": {
  "kernelspec": {
   "display_name": "Python 3",
   "language": "python",
   "name": "python3"
  },
  "language_info": {
   "codemirror_mode": {
    "name": "ipython",
    "version": 3
   },
   "file_extension": ".py",
   "mimetype": "text/x-python",
   "name": "python",
   "nbconvert_exporter": "python",
   "pygments_lexer": "ipython3",
   "version": "3.8.8"
  }
 },
 "nbformat": 4,
 "nbformat_minor": 5
}
